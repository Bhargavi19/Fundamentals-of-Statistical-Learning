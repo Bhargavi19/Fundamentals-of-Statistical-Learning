{
 "cells": [
  {
   "cell_type": "code",
   "execution_count": 32,
   "metadata": {
    "scrolled": true
   },
   "outputs": [
    {
     "name": "stdout",
     "output_type": "stream",
     "text": [
      "['B']['C']['D']['A']['D']['A']['C']['C']['A']['C']['C']['S']\n",
      "['B']['D']['D']['D']['S']\n",
      "['A']['D']['D']['B']['D']['A']['D']['B']['C']['D']['B']['D']['B']['D']['S']\n",
      "['B']['C']['D']['S']\n",
      "['B']['D']['D']['A']['D']['D']['A']['D']['C']['B']['C']['S']\n",
      "['B']['C']['C']['S']\n",
      "['B']['C']['C']['A']['D']['S']\n",
      "['A']['C']['A']['D']['S']\n",
      "['A']['C']['S']\n",
      "['B']['D']['S']\n"
     ]
    }
   ],
   "source": [
    "#1. Generating sequences\n",
    "import numpy as np\n",
    "pi1 = [0, 1, 0, 0]\n",
    "a1= [[1, 0, 0, 0], [0,0,0,1], [0, 0.4, 0.3, 0.3], [0.3, 0.2, 0.2, 0.3]]\n",
    "b1= [[1, 0, 0, 0, 0], [0, 0.5, 0.5, 0, 0], [0, 0.2, 0.2, 0.3, 0.3], [0, 0, 0, 0.5, 0.5]]\n",
    "hidden = [1, 2, 3, 4]\n",
    "observations = ['S', 'A', 'B', 'C', 'D']\n",
    "for x in range(0, 10):\n",
    "    first = np.random.choice(hidden, 1, p=pi1)\n",
    "    state = first\n",
    "    O = ''\n",
    "    while(O != 'S') :\n",
    "        O = np.random.choice(observations, 1, p=b1[state[0]-1])\n",
    "        print (O, end = '')\n",
    "        state = np.random.choice(hidden, 1, p=a1[state[0]-1])\n",
    "    print()     "
   ]
  },
  {
   "cell_type": "code",
   "execution_count": 12,
   "metadata": {
    "scrolled": true
   },
   "outputs": [
    {
     "name": "stdout",
     "output_type": "stream",
     "text": [
      "\t['A', 'D', 'C', 'B', 'D', 'C', 'C', 'S']\n",
      "P(O|λ1) : 3.762855e-05\n",
      "P(O|λ2) : 8.53125e-06\n",
      "Sequence belongs to λ1\n",
      "\t['B', 'D', 'S']\n",
      "P(O|λ1) : 0.075\n",
      "P(O|λ2) : 0.0\n",
      "Sequence belongs to λ1\n",
      "\t['B', 'C', 'C', 'B', 'D', 'D', 'C', 'A', 'C', 'S']\n",
      "P(O|λ1) : 3.98671632e-06\n",
      "P(O|λ2) : 0.0\n",
      "Sequence belongs to λ1\n",
      "\t['A', 'C', 'D', 'S']\n",
      "P(O|λ1) : 0.01125\n",
      "P(O|λ2) : 0.0015000000000000005\n",
      "Sequence belongs to λ1\n",
      "\t['A', 'D', 'A', 'C', 'S']\n",
      "P(O|λ1) : 0.0042\n",
      "P(O|λ2) : 0.00016250000000000002\n",
      "Sequence belongs to λ1\n",
      "\t['D', 'B', 'B', 'S']\n",
      "P(O|λ1) : 0.0\n",
      "P(O|λ2) : 0.005750000000000001\n",
      "Sequence belongs to λ2\n",
      "\t['A', 'B', 'S']\n",
      "P(O|λ1) : 0.0\n",
      "P(O|λ2) : 0.015000000000000003\n",
      "Sequence belongs to λ2\n",
      "\t['D', 'D', 'B', 'D', 'D', 'B', 'A', 'C', 'C', 'D', 'A', 'B', 'B', 'C', 'D', 'B', 'B', 'B', 'S']\n",
      "P(O|λ1) : 0.0\n",
      "P(O|λ2) : 1.4033509570312503e-12\n",
      "Sequence belongs to λ2\n",
      "\t['D', 'B', 'D', 'S']\n",
      "P(O|λ1) : 0.0\n",
      "P(O|λ2) : 0.0035000000000000005\n",
      "Sequence belongs to λ2\n",
      "\t['A', 'A', 'A', 'A', 'D', 'C', 'B', 'S']\n",
      "P(O|λ1) : 0.0\n",
      "P(O|λ2) : 3.8390625e-06\n",
      "Sequence belongs to λ2\n"
     ]
    }
   ],
   "source": [
    "#2. forward algorithm\n",
    "Sequences = [['A', 'D', 'C', 'B', 'D', 'C', 'C', 'S'],\n",
    "           ['B', 'D', 'S'],\n",
    "           ['B', 'C', 'C', 'B', 'D', 'D', 'C', 'A', 'C', 'S'],\n",
    "            ['A', 'C', 'D', 'S'],\n",
    "            ['A', 'D', 'A', 'C', 'S'],\n",
    "            ['D', 'B', 'B', 'S'],\n",
    "            ['A', 'B', 'S'],\n",
    "            ['D', 'D', 'B', 'D', 'D', 'B', 'A', 'C', 'C', 'D', 'A', 'B', 'B', 'C', 'D', 'B', 'B', 'B', 'S'],\n",
    "            ['D', 'B', 'D', 'S'],\n",
    "            ['A', 'A', 'A', 'A', 'D', 'C', 'B', 'S']]\n",
    "\n",
    "pi2 = [0, 0, 0, 1]\n",
    "a2= [[1, 0, 0, 0], [0.1,0.3,0.5,0.1], [0.1, 0.4, 0.3, 0.2], [0.1, 0.4, 0.2, 0.3]]\n",
    "b2= [[1, 0, 0, 0, 0], [0, 0, 0.5, 0, 0.5], [0, 0, 0.5, 0.5, 0.0], [0, 0.5, 0, 0, 0.5]]\n",
    "\n",
    "\n",
    "for Sequence in Sequences :\n",
    "    ls = len(Sequence)\n",
    "    lh = len(hidden)\n",
    "    alpha1 = [[0 for x in range(ls) ] for y in range(lh) ]\n",
    "    alpha2 = [[0 for x in range(ls) ] for y in range(lh) ]\n",
    "    j = 0\n",
    "    for O in Sequence :    \n",
    "        for i in hidden :\n",
    "            if j == 0 :\n",
    "                alpha1[i-1][j] = pi1[i-1] * b1[i-1][observations.index(O)]\n",
    "                alpha2[i-1][j] = pi2[i-1] * b2[i-1][observations.index(O)]\n",
    "            else :\n",
    "                for k in hidden :\n",
    "                    alpha1[i-1][j] = alpha1[i-1][j] + alpha1[k-1][j-1]*a1[k-1][i-1]*b1[i-1][observations.index(O)]\n",
    "                    alpha2[i-1][j] = alpha2[i-1][j] + alpha2[k-1][j-1]*a2[k-1][i-1]*b2[i-1][observations.index(O)]\n",
    "        j = j+1\n",
    "    prob1, prob2, c = 0,0,0\n",
    "    for i in hidden :\n",
    "        prob1 = prob1 + alpha1[i-1][ls-1]\n",
    "        prob2 = prob2 + alpha2[i-1][ls-1]\n",
    "    if(prob1 > prob2) :\n",
    "        c = 1\n",
    "    elif (prob2 > prob1) :\n",
    "        c = 2\n",
    "    print(\"\\t\"+ str(Sequence))\n",
    "    print('P(O|λ1) : '+ str(prob1))\n",
    "    print('P(O|λ2) : '+ str(prob2))\n",
    "    print('Sequence belongs to λ' + str(c))"
   ]
  },
  {
   "cell_type": "code",
   "execution_count": 28,
   "metadata": {},
   "outputs": [
    {
     "name": "stdout",
     "output_type": "stream",
     "text": [
      "Sequence : ['A', 'D', 'C', 'B', 'D', 'C', 'C', 'S']\n",
      "Hidden States : [4, 2, 3, 2, 2, 3, 3, 1]\n",
      "Sequence : ['B', 'D', 'S']\n",
      "Hidden States : [1, 1, 1]\n",
      "Sequence : ['B', 'C', 'C', 'B', 'D', 'D', 'C', 'A', 'C', 'S']\n",
      "Hidden States : [1, 1, 1, 1, 1, 1, 1, 1, 1, 1]\n",
      "Sequence : ['A', 'C', 'D', 'S']\n",
      "Hidden States : [4, 3, 2, 1]\n",
      "Sequence : ['A', 'D', 'A', 'C', 'S']\n",
      "Hidden States : [4, 4, 4, 3, 1]\n",
      "Sequence : ['D', 'B', 'B', 'S']\n",
      "Hidden States : [4, 2, 3, 1]\n",
      "Sequence : ['A', 'B', 'S']\n",
      "Hidden States : [4, 2, 1]\n",
      "Sequence : ['D', 'D', 'B', 'D', 'D', 'B', 'A', 'C', 'C', 'D', 'A', 'B', 'B', 'C', 'D', 'B', 'B', 'B', 'S']\n",
      "Hidden States : [4, 2, 3, 2, 2, 3, 4, 3, 3, 4, 4, 2, 2, 3, 2, 3, 2, 3, 1]\n",
      "Sequence : ['D', 'B', 'D', 'S']\n",
      "Hidden States : [4, 2, 2, 1]\n",
      "Sequence : ['A', 'A', 'A', 'A', 'D', 'C', 'B', 'S']\n",
      "Hidden States : [4, 4, 4, 4, 2, 3, 2, 1]\n"
     ]
    }
   ],
   "source": [
    "#3. Viterbi Algorithm\n",
    "for Sequence in Sequences :\n",
    "    ls = len(Sequence)\n",
    "    lh = len(hidden)\n",
    "    delta2 = [[0 for x in range(ls) ] for y in range(lh) ]\n",
    "    states2 = [[0 for x in range(ls) ] for y in range(lh) ]\n",
    "    j = 0\n",
    "    for O in Sequence :    \n",
    "        for i in hidden :\n",
    "            if j == 0 :\n",
    "                delta2[i-1][j] = pi2[i-1] * b2[i-1][observations.index(O)]\n",
    "            else :\n",
    "                maxstate = 1\n",
    "                maxprob = 0\n",
    "                for k in hidden :\n",
    "                    temp = delta2[k-1][j-1]*a2[k-1][i-1]*b2[i-1][observations.index(O)]\n",
    "                    if temp > maxprob :\n",
    "                        maxprob = temp\n",
    "                        maxstate = k\n",
    "                delta2[i-1][j] = maxprob\n",
    "                states2[i-1][j] = maxstate\n",
    "        j = j+1\n",
    "    \n",
    "    hidden_sequence = []\n",
    "    delta2 = np.array(delta2)\n",
    "    tot_max = max(delta2[:,ls-1])\n",
    "    tot_state = np.argmax(delta2[:,ls-1]) \n",
    "    hidden_sequence.append(tot_state+1)\n",
    "\n",
    "    #backtracking\n",
    "    j = ls-1\n",
    "    while j > 0:\n",
    "        hidden_sequence.append(states2[tot_state][j])\n",
    "        tot_state = states2[tot_state][j] -1\n",
    "        j = j-1\n",
    "    print('Sequence : ' + str(Sequence))\n",
    "    print('Hidden States : ' + str(hidden_sequence[::-1]))"
   ]
  },
  {
   "cell_type": "code",
   "execution_count": null,
   "metadata": {},
   "outputs": [],
   "source": []
  }
 ],
 "metadata": {
  "kernelspec": {
   "display_name": "Python 3",
   "language": "python",
   "name": "python3"
  },
  "language_info": {
   "codemirror_mode": {
    "name": "ipython",
    "version": 3
   },
   "file_extension": ".py",
   "mimetype": "text/x-python",
   "name": "python",
   "nbconvert_exporter": "python",
   "pygments_lexer": "ipython3",
   "version": "3.7.4"
  }
 },
 "nbformat": 4,
 "nbformat_minor": 2
}
